{
 "cells": [
  {
   "cell_type": "code",
   "execution_count": 1,
   "metadata": {
    "collapsed": true
   },
   "outputs": [],
   "source": [
    "from tsfresh import extract_relevant_features, extract_features\n",
    "from tsfresh.feature_extraction import FeatureExtractionSettings\n",
    "from tsfresh.utilities.dataframe_functions import impute\n",
    "import pandas as pd"
   ]
  },
  {
   "cell_type": "code",
   "execution_count": 2,
   "metadata": {},
   "outputs": [],
   "source": [
    "def read_data(features, labels):\n",
    "    colnames = ['time_index', 'value', 'id']\n",
    "    label_colnames = ['value', 'id']\n",
    "    features = pd.read_csv(features, header=None, names=colnames)\n",
    "    y = pd.read_csv(labels, header = None, names = label_colnames).sort_values(by = 'id')\n",
    "    labels = pd.Series(y['value'].values)\n",
    "    index = y['id']\n",
    "    labels.index = index\n",
    "    return (features, labels)"
   ]
  },
  {
   "cell_type": "code",
   "execution_count": 3,
   "metadata": {},
   "outputs": [],
   "source": [
    "train_features, train_labels = read_data('data/train_features.csv', 'data/train_labels.csv')"
   ]
  },
  {
   "cell_type": "code",
   "execution_count": null,
   "metadata": {},
   "outputs": [],
   "source": [
    ""
   ]
  },
  {
   "cell_type": "code",
   "execution_count": null,
   "metadata": {},
   "outputs": [],
   "source": [
    "train_features_filtered = extract_relevant_features(timeseries_container=train_features, \n",
    "                                                    y=train_labels, column_id='id', column_sort='time_index', column_value='value')"
   ]
  },
  {
   "cell_type": "code",
   "execution_count": null,
   "metadata": {},
   "outputs": [],
   "source": [
    ""
   ]
  }
 ],
 "metadata": {
  "kernelspec": {
   "display_name": "Python 2",
   "language": "python",
   "name": "python2"
  },
  "language_info": {
   "codemirror_mode": {
    "name": "ipython",
    "version": 2.0
   },
   "file_extension": ".py",
   "mimetype": "text/x-python",
   "name": "python",
   "nbconvert_exporter": "python",
   "pygments_lexer": "ipython2",
   "version": "2.7.6"
  }
 },
 "nbformat": 4,
 "nbformat_minor": 0
}